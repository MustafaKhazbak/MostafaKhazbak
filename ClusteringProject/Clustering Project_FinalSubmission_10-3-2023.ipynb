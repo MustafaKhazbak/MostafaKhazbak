{
 "cells": [
  {
   "cell_type": "markdown",
   "metadata": {
    "id": "35roXDEMudbw"
   },
   "source": [
    "# GUC Clustering Project "
   ]
  },
  {
   "cell_type": "code",
   "execution_count": null,
   "metadata": {
    "id": "YCwbCzREudb1"
   },
   "outputs": [],
   "source": []
  },
  {
   "cell_type": "markdown",
   "metadata": {
    "id": "CIiItKbYudb2"
   },
   "source": [
    "**Objective:** \n",
    "The objective of this project teach students how to apply clustering to real data sets\n",
    "\n",
    "The projects aims to teach student: \n",
    "* Which clustering approach to use\n",
    "* Compare between Kmeans, Hierarchal, DBScan, and Gaussian Mixtures  \n",
    "* How to tune the parameters of each data approach\n",
    "* What is the effect of different distance functions (optional) \n",
    "* How to evaluate clustering approachs \n",
    "* How to display the output\n",
    "* What is the effect of normalizing the data \n",
    "\n",
    "Students in this project will use ready-made functions from Sklearn, plotnine, numpy and pandas \n",
    " \n",
    "\n"
   ]
  },
  {
   "cell_type": "code",
   "execution_count": null,
   "metadata": {
    "id": "MtHElDYdudb3"
   },
   "outputs": [],
   "source": [
    "# if plotnine is not installed in Jupter then use the following command to install it \n"
   ]
  },
  {
   "cell_type": "markdown",
   "metadata": {
    "id": "5RHS5ZoQudb4"
   },
   "source": [
    "Running this project require the following imports "
   ]
  },
  {
   "cell_type": "code",
   "execution_count": null,
   "metadata": {
    "id": "QrueqJenudb5"
   },
   "outputs": [],
   "source": [
    "import warnings\n",
    "warnings.filterwarnings('ignore')\n",
    "import seaborn as sns \n",
    "import matplotlib.pyplot as plt\n",
    "import pandas as pd\n",
    "import numpy as np\n",
    "import sklearn.preprocessing as prep\n",
    "from sklearn.datasets import make_blobs\n",
    "from plotnine import *   \n",
    "# StandardScaler is a function to normalize the data \n",
    "# You may also check MinMaxScaler and MaxAbsScaler \n",
    "#from sklearn.preprocessing import StandardScaler\n",
    "from sklearn.neighbors import NearestNeighbors\n",
    "from sklearn.datasets import load_iris\n",
    "from sklearn.cluster import KMeans\n",
    "import matplotlib.pyplot as plt\n",
    "from sklearn.cluster import DBSCAN\n",
    "from sklearn.preprocessing import MinMaxScaler\n",
    "from scipy.cluster.hierarchy import dendrogram, linkage\n",
    "from sklearn.cluster import AgglomerativeClustering\n",
    "\n",
    "from sklearn.cluster import KMeans\n",
    "from sklearn.mixture import GaussianMixture\n",
    "\n",
    "from sklearn.metrics import silhouette_score\n",
    "import numpy as np\n",
    "from scipy.cluster.hierarchy import linkage, dendrogram\n",
    "import matplotlib.pyplot as plt\n",
    "from sklearn.cluster import DBSCAN\n",
    "\n",
    "\n",
    "\n",
    "%matplotlib inline"
   ]
  },
  {
   "cell_type": "code",
   "execution_count": null,
   "metadata": {
    "id": "ju2Zj6-nudb5"
   },
   "outputs": [],
   "source": [
    "# helper function that allows us to display data in 2 dimensions an highlights the clusters\n",
    "def display_cluster(X,km=[],num_clusters=0):\n",
    "    color = 'brgcmyk'  #List colors\n",
    "    alpha = 0.5  #color obaque\n",
    "    s = 20\n",
    "    if num_clusters == 0:\n",
    "        plt.scatter(X[:,0],X[:,1],c = color[0],alpha = alpha,s = s)\n",
    "    else:\n",
    "        for i in range(num_clusters):\n",
    "            plt.scatter(X[km.labels_==i,0],X[km.labels_==i,1],c = color[i],alpha = alpha,s=s)\n",
    "            plt.scatter(km.cluster_centers_[i][0],km.cluster_centers_[i][1],c = color[i], marker = 'x', s = 100)"
   ]
  },
  {
   "cell_type": "markdown",
   "metadata": {
    "id": "hZnIbT3Mudb6"
   },
   "source": [
    "## Multi Blob Data Set \n",
    "* The Data Set generated below has 6 cluster with varying number of users and varing densities\n",
    "* Cluster the data set below using \n",
    "\n"
   ]
  },
  {
   "cell_type": "code",
   "execution_count": null,
   "metadata": {
    "id": "JeSqG318udb7",
    "outputId": "078fad92-3073-4558-b1e8-f0acd8d85d34"
   },
   "outputs": [],
   "source": [
    "plt.rcParams['figure.figsize'] = [8,8]\n",
    "sns.set_style(\"whitegrid\")\n",
    "sns.set_context(\"talk\")\n",
    "\n",
    "n_bins = 6  \n",
    "centers = [(-3, -3), (0, 0), (5,2.5),(-1, 4), (4, 6), (9,7)]\n",
    "Multi_blob_Data, y = make_blobs(n_samples=[100,150, 300, 400,300, 200], n_features=2, cluster_std=[1.3,0.6, 1.2, 1.7,0.9,1.7],\n",
    "                  centers=centers, shuffle=False, random_state=42)\n",
    "display_cluster(Multi_blob_Data)"
   ]
  },
  {
   "cell_type": "markdown",
   "metadata": {
    "id": "GDSIGjubudb8"
   },
   "source": [
    "### Kmeans \n",
    "* Use Kmeans with different values of K to cluster the above data \n",
    "* Display the outcome of each value of K \n",
    "* Plot distortion function versus K and choose the approriate value of k \n",
    "* Plot the silhouette_score versus K and use it to choose the best K \n",
    "* Store the silhouette_score for the best K for later comparison with other clustering techniques. "
   ]
  },
  {
   "cell_type": "code",
   "execution_count": null,
   "metadata": {
    "id": "_Ne3KmtPudb9"
   },
   "outputs": [],
   "source": [
    "def Kmeans(DATASET):\n",
    "    DATASET_distortion= []\n",
    "    DATASET_silhouette_scores = []\n",
    "    best_score= -1\n",
    "    X = DATASET\n",
    "    # Set up subplots for each value of K\n",
    "    fig, axs = plt.subplots(3, 3, figsize=(15, 15))\n",
    "    axs = axs.ravel()\n",
    "    K_range = range(2, 11)\n",
    "\n",
    "    # Loop through different values of K\n",
    "    for i, k in enumerate(range(2, 11)):\n",
    "        # Create KMeans model with current value of K\n",
    "        model = KMeans(n_clusters=k)\n",
    "        # Fit the model to the data\n",
    "        model.fit(X)\n",
    "        #Inertia is calculated by measuring the distance between each data point and its centroid, squaring this distance,\n",
    "        #kmeans.labels_ the index of the cluster it gets assigned to\n",
    "        #Silhouette score is a metric used to calculate the goodness of a clustering technique.\n",
    "        DATASET_distortion.append(model.inertia_)\n",
    "        DATASET_silhouette_scores.append(silhouette_score(X, model.labels_)) \n",
    "        # Plot the outcome of the current value of K\n",
    "        axs[i].scatter(X[:, 0], X[:, 1], c=model.labels_)\n",
    "        axs[i].set_title(f\"K={k}\")\n",
    "        if len(np.unique(model.labels_)) > 1:\n",
    "                        score = silhouette_score(X, model.labels_)\n",
    "                        if score > best_score:\n",
    "                                best_score = score\n",
    "\n",
    "    plt.show()\n",
    "    plt.plot(K_range, DATASET_distortion, 'bx-')\n",
    "    plt.xlabel('Number of Clusters (K)')\n",
    "    plt.ylabel('Distortion Value')\n",
    "    plt.title('Elbow Method for Optimal K')\n",
    "    plt.show()\n",
    "    plt.plot(K_range, DATASET_silhouette_scores , 'bx-')\n",
    "    plt.xlabel('Number of Clusters (K)')\n",
    "    plt.ylabel('Silhouette Score')\n",
    "    plt.show()\n",
    "    print(\"Best Shilhouette Score is\")\n",
    "    print(best_score)\n"
   ]
  },
  {
   "cell_type": "code",
   "execution_count": null,
   "metadata": {},
   "outputs": [],
   "source": [
    "Kmeans(Multi_blob_Data)\n"
   ]
  },
  {
   "cell_type": "markdown",
   "metadata": {
    "id": "kE7dvpOAudb9"
   },
   "source": [
    "### Hierarchal Clustering\n",
    "* Use AgglomerativeClustering function to  to cluster the above data \n",
    "* In the  AgglomerativeClustering change the following parameters \n",
    "    * Affinity (use euclidean, manhattan and cosine)\n",
    "    * Linkage( use average and single )\n",
    "    * Distance_threshold (try different)\n",
    "* For each of these trials plot the Dendograph , calculate the silhouette_score and display the resulting clusters  \n",
    "* Find the set of paramters that would find result in the best silhouette_score and store this score for later comparison with other clustering techniques. \n",
    "* Record your observation "
   ]
  },
  {
   "cell_type": "code",
   "execution_count": null,
   "metadata": {
    "id": "3O_6WwKoudb-"
   },
   "outputs": [],
   "source": [
    "def HierarchalClustering (Multi_blob_Data):\n",
    "    Affinity = ['euclidean', 'cosine']\n",
    "    Linkage = ['average', 'single']\n",
    "    best_score= -1\n",
    "    distance_thresholds = np.linspace(0.01, 10, 10)\n",
    "    best_params = {}\n",
    "    for a in Affinity:\n",
    "        for l in Linkage:\n",
    "            # Compute linkage matrix\n",
    "                if a == \"cosine\" and l==\"single\":\n",
    "                    distance_thresholds = np.linspace(0.001, 1, 10)\n",
    "                #linkage methods are used to compute the distance d ( s , t ) between two clusters\n",
    "                linkage_data = linkage(Multi_blob_Data, method=l, metric=a)\n",
    "                # Plot dendrogram\n",
    "                plt.figure()\n",
    "                dendrogram(linkage_data,truncate_mode='lastp',p=20,leaf_rotation=65.,leaf_font_size=15.,show_contracted=True)\n",
    "                plt.title(f\"{l.capitalize()} linkage with {a} distance\")\n",
    "                plt.xlabel('Points index')\n",
    "                plt.ylabel('Distance')\n",
    "                plt.show()\n",
    "                for d in distance_thresholds:\n",
    "                    \n",
    "                    # Create AgglomerativeClustering object with current parameters\n",
    "                    clustering = AgglomerativeClustering(linkage=l, affinity=a,n_clusters = None,compute_full_tree=True,distance_threshold=d)\n",
    "                    # Fit the model to the data\n",
    "                    clustering.fit(Multi_blob_Data)\n",
    "                    plt.scatter(Multi_blob_Data[:, 0], Multi_blob_Data[:, 1], c=clustering.labels_, cmap='viridis')\n",
    "                    plt.title(f\"{l.capitalize()} linkage with {a} distance , Distance_Threshold= {d}\")\n",
    "                    plt.show()\n",
    "                    # Print the labels assigned to each point by the clustering algorithm\n",
    "                    if len(np.unique(clustering.labels_)) > 1:\n",
    "                        score = silhouette_score(Multi_blob_Data, clustering.labels_)\n",
    "                        if score > best_score:\n",
    "                                best_score = score\n",
    "                                best_params = {'affinity': a, 'linkage': l, 'distance_threshold': d}\n",
    "    \n",
    "    print(\"Set of paramters that would find result in the best silhouette score\")\n",
    "    print(best_params)\n",
    "    "
   ]
  },
  {
   "cell_type": "code",
   "execution_count": null,
   "metadata": {},
   "outputs": [],
   "source": [
    "HierarchalClustering(Multi_blob_Data)\n"
   ]
  },
  {
   "cell_type": "markdown",
   "metadata": {
    "id": "myJE7vQKudb-"
   },
   "source": [
    "### DBScan\n",
    "* Use DBScan function to  to cluster the above data \n",
    "* In the  DBscan change the following parameters \n",
    "    * EPS (from 0.1 to 3)\n",
    "    * Min_samples (from 5 to 25)\n",
    "* Plot the silhouette_score versus the variation in the EPS and the min_samples\n",
    "* Plot the resulting Clusters in this case \n",
    "* Find the set of paramters that would find result in the best silhouette_score and store this score for later comparison with other clustering techniques. \n",
    "* Record your observations and comments "
   ]
  },
  {
   "cell_type": "code",
   "execution_count": null,
   "metadata": {
    "id": "QiQtpAt5udb_"
   },
   "outputs": [],
   "source": [
    "def dbscan (X):\n",
    "    eps_values = np.arange(0.1, 3.1, 0.1)\n",
    "    min_samples_values = np.arange(5, 26)\n",
    "    best_silhouette_score = -1\n",
    "    best_params = {}\n",
    "    #Initialize the silhouette scores for each combination of eps and min_samples\n",
    "    silhouette_scores = np.zeros((len(eps_values), len(min_samples_values)))\n",
    "\n",
    "\n",
    "    \n",
    "    for i, eps in enumerate(eps_values):\n",
    "        for j, min_samples in enumerate(min_samples_values):\n",
    "            # Create a DBSCAN object with the current parameters\n",
    "            dbscan = DBSCAN(eps=eps, min_samples=min_samples)\n",
    "            dbscan.fit(X)    \n",
    "            plt.scatter(X[:, 0], X[:, 1], c=dbscan.labels_)\n",
    "            plt.title(f'DBSCAN Clustering (eps={eps}, min_samples={min_samples}')\n",
    "            plt.show()\n",
    "            # Compute the silhouette score\n",
    "            if len(np.unique(dbscan.labels_)) > 1:\n",
    "                score = silhouette_score(X, dbscan.labels_)\n",
    "                silhouette_scores[i, j] = silhouette_score(X, dbscan.labels_)\n",
    "                # Update the best silhouette score and corresponding parameters if necessary\n",
    "                if score > best_silhouette_score:\n",
    "                    best_silhouette_score = score\n",
    "                    best_params = {'EPS': eps,'min_samples_values': min_samples}\n",
    "    print(\"------------------------------------------------------------\")     \n",
    "    print(\"Set of paramters that would find result in the best silhouette score\")\n",
    "    print(best_params)\n",
    "    print(\"------------------------------------------------------------\")\n",
    "    # Plot the silhouette score versus eps values\n",
    "    fig, ax = plt.subplots(figsize=(10,6))\n",
    "    for i, min_samples in enumerate(min_samples_values):\n",
    "        ax.plot(eps_values, silhouette_scores[:,i], label=f'min_samples = {min_samples}')\n",
    "    ax.set_xlabel('eps')\n",
    "    ax.set_ylabel('Silhouette Score')\n",
    "    ax.set_title('Silhouette Score versus eps for different min_samples values')\n",
    "    ax.legend()\n",
    "    plt.show()\n",
    "\n",
    "    # Plot the silhouette score versus min_samples values\n",
    "    fig, ax = plt.subplots(figsize=(10,6))\n",
    "    for i, eps in enumerate(eps_values):\n",
    "        ax.plot(min_samples_values, silhouette_scores[i,:], label=f'eps = {eps}')\n",
    "    ax.set_xlabel('min_samples')\n",
    "    ax.set_ylabel('Silhouette Score')\n",
    "    ax.set_title('Silhouette Score versus min_samples for different eps values')\n",
    "    ax.legend()\n",
    "    plt.show()\n",
    "    return best_silhouette_score\n"
   ]
  },
  {
   "cell_type": "code",
   "execution_count": null,
   "metadata": {},
   "outputs": [],
   "source": [
    "dbscan(Multi_blob_Data)\n"
   ]
  },
  {
   "cell_type": "markdown",
   "metadata": {},
   "source": [
    "### Gaussian Mixture\n",
    "* Use GaussianMixture function to cluster the above data \n",
    "* In GMM change the covariance_type and check the difference in the resulting proabability fit \n",
    "* Use a 2D contour plot to plot the resulting distribution (the components of the GMM) as well as the total Gaussian mixture "
   ]
  },
  {
   "cell_type": "code",
   "execution_count": null,
   "metadata": {},
   "outputs": [],
   "source": [
    "from sklearn.metrics import silhouette_score\n",
    "\n",
    "def gaussian(normalized_data):\n",
    "    covariance_types = ['full', 'tied', 'diag', 'spherical']\n",
    "    K_range = range(2, 6)\n",
    "    max_silhouette_score=0.0\n",
    "    for j, K in enumerate(K_range):\n",
    "        silhouette_scores = []\n",
    "        fig, axes = plt.subplots(2, 2, figsize=(12, 12))\n",
    "        axes = axes.ravel()\n",
    "        for i, cov_type in enumerate(covariance_types):\n",
    "            gmm = GaussianMixture(n_components=K, covariance_type=cov_type, random_state=42)\n",
    "            gmm.fit(normalized_data)\n",
    "            labels = gmm.predict(normalized_data)\n",
    "            silhouette_scores.append(silhouette_score(normalized_data, labels))\n",
    "            sns.scatterplot(x=normalized_data[:,0], y=normalized_data[:,1], hue=labels, ax=axes[i])\n",
    "            sns.kdeplot(x=normalized_data[:,0], y=normalized_data[:,1], levels=5, color='w', linewidths=1.5, ax=axes[i])\n",
    "            axes[i].set_title('Covariance Type: {}, K={}'.format(cov_type, K))\n",
    "        plt.tight_layout()\n",
    "        plt.show()\n",
    "        print(\"K={}, Silhouette Scores: {}\".format(K, silhouette_scores))\n",
    "        if np.max(silhouette_scores) > max_silhouette_score:\n",
    "            max_silhouette_score = max(silhouette_scores)\n",
    "            best_K = K\n",
    "    print(\"Best K value: {}, Best Silhouette Score: {}\".format(best_K, max_silhouette_score))\n",
    "    \n",
    "    "
   ]
  },
  {
   "cell_type": "code",
   "execution_count": null,
   "metadata": {},
   "outputs": [],
   "source": [
    "gaussian(Multi_blob_Data)\n"
   ]
  },
  {
   "cell_type": "markdown",
   "metadata": {
    "id": "m92lZkkyudb_"
   },
   "source": [
    "## iris data set \n",
    "The iris data set is test data set that is part of the Sklearn module \n",
    "which contains 150 records each with 4 features. All the features are represented by real numbers \n",
    "\n",
    "The data represents three classes \n"
   ]
  },
  {
   "cell_type": "code",
   "execution_count": null,
   "metadata": {
    "id": "_QaCWyyCudcA",
    "outputId": "79c14dba-80cf-4d96-e69d-70763b789faf"
   },
   "outputs": [],
   "source": [
    "from sklearn.datasets import load_iris\n",
    "\n",
    "iris_data = load_iris()\n",
    "iris_data.target[[10, 25, 50]]\n",
    "#array([0, 0, 1])\n",
    "list(iris_data.target_names)\n",
    "['setosa', 'versicolor', 'virginica']\n"
   ]
  },
  {
   "cell_type": "code",
   "execution_count": null,
   "metadata": {},
   "outputs": [],
   "source": [
    "iris = load_iris()\n",
    "iris_data = iris.data\n",
    "scaler = MinMaxScaler()\n",
    "iris_data_normalized = scaler.fit_transform(iris_data)\n",
    "Kmeans(iris_data_normalized)\n",
    "\n"
   ]
  },
  {
   "cell_type": "code",
   "execution_count": null,
   "metadata": {},
   "outputs": [],
   "source": [
    "HierarchalClustering(iris_data_normalized)"
   ]
  },
  {
   "cell_type": "code",
   "execution_count": null,
   "metadata": {},
   "outputs": [],
   "source": [
    "dbscan(iris_data_normalized)"
   ]
  },
  {
   "cell_type": "code",
   "execution_count": null,
   "metadata": {},
   "outputs": [],
   "source": [
    "gaussian(iris_data_normalized)\n"
   ]
  },
  {
   "cell_type": "markdown",
   "metadata": {
    "id": "WyoCVfyMudcA"
   },
   "source": [
    "* Repeat all the above clustering approaches and steps on the above data \n",
    "* Normalize the data then repeat all the above steps \n",
    "* Compare between the different clustering approaches "
   ]
  },
  {
   "cell_type": "markdown",
   "metadata": {
    "id": "N2oBmWT2udcA"
   },
   "source": [
    "## Customer dataset\n",
    "Repeat all the above on the customer data set "
   ]
  },
  {
   "cell_type": "code",
   "execution_count": null,
   "metadata": {},
   "outputs": [],
   "source": [
    "Customer_dataset = pd.read_csv(r\"C:\\Users\\MostafaShehab\\Desktop\\GU\\ML-1\\Customerdata.csv\")\n",
    "Customer_dataset1=Customer_dataset[['Age','Income',\"Settlement size\"]]\n",
    "scaler = MinMaxScaler()\n",
    "Customer_dataset_normalized = scaler.fit_transform(Customer_dataset1)"
   ]
  },
  {
   "cell_type": "code",
   "execution_count": null,
   "metadata": {},
   "outputs": [],
   "source": [
    "Kmeans(Customer_dataset_normalized)\n",
    "\n"
   ]
  },
  {
   "cell_type": "code",
   "execution_count": null,
   "metadata": {},
   "outputs": [],
   "source": [
    "HierarchalClustering(Customer_dataset_normalized)"
   ]
  },
  {
   "cell_type": "code",
   "execution_count": null,
   "metadata": {},
   "outputs": [],
   "source": [
    "dbscan(Customer_dataset_normalized)"
   ]
  },
  {
   "cell_type": "code",
   "execution_count": null,
   "metadata": {},
   "outputs": [],
   "source": [
    "gaussian(Customer_dataset_normalized)"
   ]
  },
  {
   "cell_type": "code",
   "execution_count": null,
   "metadata": {},
   "outputs": [],
   "source": []
  },
  {
   "cell_type": "code",
   "execution_count": null,
   "metadata": {},
   "outputs": [],
   "source": []
  },
  {
   "cell_type": "code",
   "execution_count": null,
   "metadata": {},
   "outputs": [],
   "source": []
  }
 ],
 "metadata": {
  "colab": {
   "name": "Clustering Project.ipynb",
   "provenance": []
  },
  "kernelspec": {
   "display_name": "Python 3 (ipykernel)",
   "language": "python",
   "name": "python3"
  },
  "language_info": {
   "codemirror_mode": {
    "name": "ipython",
    "version": 3
   },
   "file_extension": ".py",
   "mimetype": "text/x-python",
   "name": "python",
   "nbconvert_exporter": "python",
   "pygments_lexer": "ipython3",
   "version": "3.9.12"
  }
 },
 "nbformat": 4,
 "nbformat_minor": 1
}
